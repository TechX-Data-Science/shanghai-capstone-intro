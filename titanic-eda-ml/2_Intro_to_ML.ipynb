{
 "cells": [
  {
   "cell_type": "markdown",
   "metadata": {
    "colab_type": "text",
    "id": "q4sk8FtwjV_Y"
   },
   "source": [
    "# 0. Overview\n",
    "- This is a introductory project for Triple C data scientist, focusing on the area of EDA and Machine Learning. In order to complete this project, you have to fork this git repo to your own GitHub account and work on it there. \n",
    "\n",
    "- Dataset: https://www.kaggle.com/c/titanic/overview\n",
    "- Reference: https://www.kaggle.com/rbud613/taitanic-eda/comments#846113\n",
    "- Pre-requisite:\n",
    "    - Knowledge of numpy and Python pandas;\n",
    "    - Knowledge of machine learning concepts;\n",
    "    - Passion to learn;\n",
    "    - Ready to ask question (to both Google and your Tech Lead).\n",
    "- Objective:\n",
    "    - Understanding the basic ML model building procedure (for classification problem).\n",
    "\n",
    "---------"
   ]
  },
  {
   "cell_type": "markdown",
   "metadata": {
    "colab_type": "text",
    "id": "v2hk1qJaxf1x"
   },
   "source": [
    "# 1. Get Started\n",
    "- **Overview**: In this section, you will load the necessary data for this project and corresponding explanation of it. "
   ]
  },
  {
   "cell_type": "markdown",
   "metadata": {
    "colab_type": "text",
    "id": "zbLk3Lcd_4X_"
   },
   "source": [
    "## 1.1. Check for requirements - Only run this part if you are in virtual environment!!"
   ]
  },
  {
   "cell_type": "code",
   "execution_count": 19,
   "metadata": {
    "colab": {},
    "colab_type": "code",
    "id": "4gkIA3CXyns3"
   },
   "outputs": [],
   "source": [
    "# !pip install -r requirements.txt # Un-comment this line if you are in virtual environment "
   ]
  },
  {
   "cell_type": "markdown",
   "metadata": {
    "colab_type": "text",
    "id": "DzuofEuOysG7"
   },
   "source": [
    "## 1.2. Getting the Data\n",
    "- First, let's take a look at the data we are going to use\n",
    "- Essentially, this dataset includes the data of each Titanic passengers, as well as whether they survived from the great tragedy.\n",
    "- There is **1 problem** in this section"
   ]
  },
  {
   "cell_type": "code",
   "execution_count": 20,
   "metadata": {
    "colab": {},
    "colab_type": "code",
    "id": "msLtPBQ-jE1_"
   },
   "outputs": [],
   "source": [
    "import pandas as pd"
   ]
  },
  {
   "cell_type": "markdown",
   "metadata": {
    "colab_type": "text",
    "id": "8zeyMIri5jCU"
   },
   "source": [
    "**Problem 1.1:** Use pandas libary to read in the data we need (i.e. train.csv & test.csv)"
   ]
  },
  {
   "cell_type": "code",
   "execution_count": 21,
   "metadata": {
    "colab": {},
    "colab_type": "code",
    "id": "oUrtdcN7yj7w"
   },
   "outputs": [],
   "source": [
    "# Your Code Starts Here\n",
    "train = pd.read_csv('data/train.csv')\n",
    "test = pd.read_csv('data/test.csv')"
   ]
  },
  {
   "cell_type": "code",
   "execution_count": 22,
   "metadata": {
    "colab": {},
    "colab_type": "code",
    "id": "VVgiK1mIxP-2",
    "outputId": "9421ad69-aa71-43cd-ee53-fec15a5a2f2d"
   },
   "outputs": [
    {
     "data": {
      "text/html": [
       "<div>\n",
       "<style scoped>\n",
       "    .dataframe tbody tr th:only-of-type {\n",
       "        vertical-align: middle;\n",
       "    }\n",
       "\n",
       "    .dataframe tbody tr th {\n",
       "        vertical-align: top;\n",
       "    }\n",
       "\n",
       "    .dataframe thead th {\n",
       "        text-align: right;\n",
       "    }\n",
       "</style>\n",
       "<table border=\"1\" class=\"dataframe\">\n",
       "  <thead>\n",
       "    <tr style=\"text-align: right;\">\n",
       "      <th></th>\n",
       "      <th>PassengerId</th>\n",
       "      <th>Survived</th>\n",
       "      <th>Pclass</th>\n",
       "      <th>Name</th>\n",
       "      <th>Sex</th>\n",
       "      <th>Age</th>\n",
       "      <th>SibSp</th>\n",
       "      <th>Parch</th>\n",
       "      <th>Ticket</th>\n",
       "      <th>Fare</th>\n",
       "      <th>Cabin</th>\n",
       "      <th>Embarked</th>\n",
       "    </tr>\n",
       "  </thead>\n",
       "  <tbody>\n",
       "    <tr>\n",
       "      <th>0</th>\n",
       "      <td>1</td>\n",
       "      <td>0</td>\n",
       "      <td>3</td>\n",
       "      <td>Braund, Mr. Owen Harris</td>\n",
       "      <td>male</td>\n",
       "      <td>22.0</td>\n",
       "      <td>1</td>\n",
       "      <td>0</td>\n",
       "      <td>A/5 21171</td>\n",
       "      <td>7.2500</td>\n",
       "      <td>NaN</td>\n",
       "      <td>S</td>\n",
       "    </tr>\n",
       "    <tr>\n",
       "      <th>1</th>\n",
       "      <td>2</td>\n",
       "      <td>1</td>\n",
       "      <td>1</td>\n",
       "      <td>Cumings, Mrs. John Bradley (Florence Briggs Th...</td>\n",
       "      <td>female</td>\n",
       "      <td>38.0</td>\n",
       "      <td>1</td>\n",
       "      <td>0</td>\n",
       "      <td>PC 17599</td>\n",
       "      <td>71.2833</td>\n",
       "      <td>C85</td>\n",
       "      <td>C</td>\n",
       "    </tr>\n",
       "    <tr>\n",
       "      <th>2</th>\n",
       "      <td>3</td>\n",
       "      <td>1</td>\n",
       "      <td>3</td>\n",
       "      <td>Heikkinen, Miss. Laina</td>\n",
       "      <td>female</td>\n",
       "      <td>26.0</td>\n",
       "      <td>0</td>\n",
       "      <td>0</td>\n",
       "      <td>STON/O2. 3101282</td>\n",
       "      <td>7.9250</td>\n",
       "      <td>NaN</td>\n",
       "      <td>S</td>\n",
       "    </tr>\n",
       "    <tr>\n",
       "      <th>3</th>\n",
       "      <td>4</td>\n",
       "      <td>1</td>\n",
       "      <td>1</td>\n",
       "      <td>Futrelle, Mrs. Jacques Heath (Lily May Peel)</td>\n",
       "      <td>female</td>\n",
       "      <td>35.0</td>\n",
       "      <td>1</td>\n",
       "      <td>0</td>\n",
       "      <td>113803</td>\n",
       "      <td>53.1000</td>\n",
       "      <td>C123</td>\n",
       "      <td>S</td>\n",
       "    </tr>\n",
       "    <tr>\n",
       "      <th>4</th>\n",
       "      <td>5</td>\n",
       "      <td>0</td>\n",
       "      <td>3</td>\n",
       "      <td>Allen, Mr. William Henry</td>\n",
       "      <td>male</td>\n",
       "      <td>35.0</td>\n",
       "      <td>0</td>\n",
       "      <td>0</td>\n",
       "      <td>373450</td>\n",
       "      <td>8.0500</td>\n",
       "      <td>NaN</td>\n",
       "      <td>S</td>\n",
       "    </tr>\n",
       "  </tbody>\n",
       "</table>\n",
       "</div>"
      ],
      "text/plain": [
       "   PassengerId  Survived  Pclass  \\\n",
       "0            1         0       3   \n",
       "1            2         1       1   \n",
       "2            3         1       3   \n",
       "3            4         1       1   \n",
       "4            5         0       3   \n",
       "\n",
       "                                                Name     Sex   Age  SibSp  \\\n",
       "0                            Braund, Mr. Owen Harris    male  22.0      1   \n",
       "1  Cumings, Mrs. John Bradley (Florence Briggs Th...  female  38.0      1   \n",
       "2                             Heikkinen, Miss. Laina  female  26.0      0   \n",
       "3       Futrelle, Mrs. Jacques Heath (Lily May Peel)  female  35.0      1   \n",
       "4                           Allen, Mr. William Henry    male  35.0      0   \n",
       "\n",
       "   Parch            Ticket     Fare Cabin Embarked  \n",
       "0      0         A/5 21171   7.2500   NaN        S  \n",
       "1      0          PC 17599  71.2833   C85        C  \n",
       "2      0  STON/O2. 3101282   7.9250   NaN        S  \n",
       "3      0            113803  53.1000  C123        S  \n",
       "4      0            373450   8.0500   NaN        S  "
      ]
     },
     "execution_count": 22,
     "metadata": {},
     "output_type": "execute_result"
    }
   ],
   "source": [
    "# First few lines of training set (i.e. the data WITH known labels)\n",
    "train.head()"
   ]
  },
  {
   "cell_type": "code",
   "execution_count": 23,
   "metadata": {
    "colab": {},
    "colab_type": "code",
    "id": "lRDaBdrExQFG",
    "outputId": "d75f03b2-5f18-4c58-cfa9-b5ed1ced8b4f"
   },
   "outputs": [
    {
     "data": {
      "text/html": [
       "<div>\n",
       "<style scoped>\n",
       "    .dataframe tbody tr th:only-of-type {\n",
       "        vertical-align: middle;\n",
       "    }\n",
       "\n",
       "    .dataframe tbody tr th {\n",
       "        vertical-align: top;\n",
       "    }\n",
       "\n",
       "    .dataframe thead th {\n",
       "        text-align: right;\n",
       "    }\n",
       "</style>\n",
       "<table border=\"1\" class=\"dataframe\">\n",
       "  <thead>\n",
       "    <tr style=\"text-align: right;\">\n",
       "      <th></th>\n",
       "      <th>PassengerId</th>\n",
       "      <th>Pclass</th>\n",
       "      <th>Name</th>\n",
       "      <th>Sex</th>\n",
       "      <th>Age</th>\n",
       "      <th>SibSp</th>\n",
       "      <th>Parch</th>\n",
       "      <th>Ticket</th>\n",
       "      <th>Fare</th>\n",
       "      <th>Cabin</th>\n",
       "      <th>Embarked</th>\n",
       "    </tr>\n",
       "  </thead>\n",
       "  <tbody>\n",
       "    <tr>\n",
       "      <th>0</th>\n",
       "      <td>892</td>\n",
       "      <td>3</td>\n",
       "      <td>Kelly, Mr. James</td>\n",
       "      <td>male</td>\n",
       "      <td>34.5</td>\n",
       "      <td>0</td>\n",
       "      <td>0</td>\n",
       "      <td>330911</td>\n",
       "      <td>7.8292</td>\n",
       "      <td>NaN</td>\n",
       "      <td>Q</td>\n",
       "    </tr>\n",
       "    <tr>\n",
       "      <th>1</th>\n",
       "      <td>893</td>\n",
       "      <td>3</td>\n",
       "      <td>Wilkes, Mrs. James (Ellen Needs)</td>\n",
       "      <td>female</td>\n",
       "      <td>47.0</td>\n",
       "      <td>1</td>\n",
       "      <td>0</td>\n",
       "      <td>363272</td>\n",
       "      <td>7.0000</td>\n",
       "      <td>NaN</td>\n",
       "      <td>S</td>\n",
       "    </tr>\n",
       "    <tr>\n",
       "      <th>2</th>\n",
       "      <td>894</td>\n",
       "      <td>2</td>\n",
       "      <td>Myles, Mr. Thomas Francis</td>\n",
       "      <td>male</td>\n",
       "      <td>62.0</td>\n",
       "      <td>0</td>\n",
       "      <td>0</td>\n",
       "      <td>240276</td>\n",
       "      <td>9.6875</td>\n",
       "      <td>NaN</td>\n",
       "      <td>Q</td>\n",
       "    </tr>\n",
       "    <tr>\n",
       "      <th>3</th>\n",
       "      <td>895</td>\n",
       "      <td>3</td>\n",
       "      <td>Wirz, Mr. Albert</td>\n",
       "      <td>male</td>\n",
       "      <td>27.0</td>\n",
       "      <td>0</td>\n",
       "      <td>0</td>\n",
       "      <td>315154</td>\n",
       "      <td>8.6625</td>\n",
       "      <td>NaN</td>\n",
       "      <td>S</td>\n",
       "    </tr>\n",
       "    <tr>\n",
       "      <th>4</th>\n",
       "      <td>896</td>\n",
       "      <td>3</td>\n",
       "      <td>Hirvonen, Mrs. Alexander (Helga E Lindqvist)</td>\n",
       "      <td>female</td>\n",
       "      <td>22.0</td>\n",
       "      <td>1</td>\n",
       "      <td>1</td>\n",
       "      <td>3101298</td>\n",
       "      <td>12.2875</td>\n",
       "      <td>NaN</td>\n",
       "      <td>S</td>\n",
       "    </tr>\n",
       "  </tbody>\n",
       "</table>\n",
       "</div>"
      ],
      "text/plain": [
       "   PassengerId  Pclass                                          Name     Sex  \\\n",
       "0          892       3                              Kelly, Mr. James    male   \n",
       "1          893       3              Wilkes, Mrs. James (Ellen Needs)  female   \n",
       "2          894       2                     Myles, Mr. Thomas Francis    male   \n",
       "3          895       3                              Wirz, Mr. Albert    male   \n",
       "4          896       3  Hirvonen, Mrs. Alexander (Helga E Lindqvist)  female   \n",
       "\n",
       "    Age  SibSp  Parch   Ticket     Fare Cabin Embarked  \n",
       "0  34.5      0      0   330911   7.8292   NaN        Q  \n",
       "1  47.0      1      0   363272   7.0000   NaN        S  \n",
       "2  62.0      0      0   240276   9.6875   NaN        Q  \n",
       "3  27.0      0      0   315154   8.6625   NaN        S  \n",
       "4  22.0      1      1  3101298  12.2875   NaN        S  "
      ]
     },
     "execution_count": 23,
     "metadata": {},
     "output_type": "execute_result"
    }
   ],
   "source": [
    "# First few lines of test set (i.e. the data WITHOUT known labels)\n",
    "test.head()"
   ]
  },
  {
   "cell_type": "markdown",
   "metadata": {
    "colab_type": "text",
    "id": "M2eb7Tbr0LjV"
   },
   "source": [
    "![Data Dictionary](./data/data_dictionary.png)\n",
    "\n",
    "\n",
    "- Variable Notes (aka passenger info)\n",
    "    - pclass: A proxy for socio-economic status (SES)\n",
    "        - 1st = Upper\n",
    "        - 2nd = Middle\n",
    "        - 3rd = Lower\n",
    "\n",
    "    - age: Age is fractional if less than 1. If the age is estimated, is it in the form of xx.5\n",
    "\n",
    "    - sibsp: The dataset defines family relations in this way...\n",
    "        - Sibling = brother, sister, stepbrother, stepsister\n",
    "        - Spouse = husband, wife (mistresses and fiancés were ignored)\n",
    "\n",
    "    - parch: The dataset defines family relations in this way...\n",
    "        - Parent = mother, father\n",
    "        - Child = daughter, son, stepdaughter, stepson\n",
    "        - Some children travelled only with a nanny, therefore parch=0 for them.\n",
    "\n",
    "- **Take a few minutes to look at the dataset and get an idea of it**\n",
    "---------"
   ]
  },
  {
   "cell_type": "markdown",
   "metadata": {
    "colab_type": "text",
    "id": "O4c-QZELyBnt"
   },
   "source": [
    "# 2. Prediction\n",
    "- **Overview**: In this section, we will entering the second part of our project: making prediction using known information.\n",
    "- The data has been split into two groups:\n",
    "  - training set (data/train.csv)\n",
    "  - test set (data/test.csv)\n",
    "\n",
    "- The training set should be used to build your machine learning models. For the training set, we provide the outcome (also known as the **“ground truth”**) for each passenger, aka whether each passerger survived or not (shown in column **Survived**)\n",
    "\n",
    "- The test set should be used to see how well your model performs on unseen data. For the test set, we do not provide the ground truth for each passenger (aka there is no column **Survived**). It is your job to predict these outcomes. For each passenger in the test set, use the model you trained to predict whether or not they survived the sinking of the Titanic.\n",
    "\n",
    "- For the final submission, take a look at the `gender_submission.csv` below. It is a set of predictions that **assume** all and only female passengers survive, as an example of what a submission file should look like.\n",
    "\n",
    "`References`: \n",
    "- 1. https://www.kaggle.com/c/titanic/overview\n",
    "- 2. https://www.kaggle.com/ash316/eda-to-prediction-dietanic\n",
    "\n",
    "`Submission to:` https://www.kaggle.com/c/titanic/submit"
   ]
  },
  {
   "cell_type": "code",
   "execution_count": 24,
   "metadata": {
    "colab": {
     "base_uri": "https://localhost:8080/",
     "height": 204
    },
    "colab_type": "code",
    "id": "RxdFpvZ4xQJS",
    "outputId": "91ecb7dc-5e59-4d17-f7ca-5284681be45d"
   },
   "outputs": [
    {
     "data": {
      "text/html": [
       "<div>\n",
       "<style scoped>\n",
       "    .dataframe tbody tr th:only-of-type {\n",
       "        vertical-align: middle;\n",
       "    }\n",
       "\n",
       "    .dataframe tbody tr th {\n",
       "        vertical-align: top;\n",
       "    }\n",
       "\n",
       "    .dataframe thead th {\n",
       "        text-align: right;\n",
       "    }\n",
       "</style>\n",
       "<table border=\"1\" class=\"dataframe\">\n",
       "  <thead>\n",
       "    <tr style=\"text-align: right;\">\n",
       "      <th></th>\n",
       "      <th>PassengerId</th>\n",
       "      <th>Survived</th>\n",
       "    </tr>\n",
       "  </thead>\n",
       "  <tbody>\n",
       "    <tr>\n",
       "      <th>0</th>\n",
       "      <td>892</td>\n",
       "      <td>0</td>\n",
       "    </tr>\n",
       "    <tr>\n",
       "      <th>1</th>\n",
       "      <td>893</td>\n",
       "      <td>1</td>\n",
       "    </tr>\n",
       "    <tr>\n",
       "      <th>2</th>\n",
       "      <td>894</td>\n",
       "      <td>0</td>\n",
       "    </tr>\n",
       "    <tr>\n",
       "      <th>3</th>\n",
       "      <td>895</td>\n",
       "      <td>0</td>\n",
       "    </tr>\n",
       "    <tr>\n",
       "      <th>4</th>\n",
       "      <td>896</td>\n",
       "      <td>1</td>\n",
       "    </tr>\n",
       "  </tbody>\n",
       "</table>\n",
       "</div>"
      ],
      "text/plain": [
       "   PassengerId  Survived\n",
       "0          892         0\n",
       "1          893         1\n",
       "2          894         0\n",
       "3          895         0\n",
       "4          896         1"
      ]
     },
     "execution_count": 24,
     "metadata": {},
     "output_type": "execute_result"
    }
   ],
   "source": [
    "# Example of final submission file - this is the kind of file you want to output at the end of the project\n",
    "pd.read_csv('data/gender_submission.csv').head()"
   ]
  },
  {
   "cell_type": "markdown",
   "metadata": {
    "colab_type": "text",
    "id": "8gqJjjRXeMVj"
   },
   "source": [
    "**Note:** Just run the following cell. It is making a new, concated dataframe of all the data we have, with a new column \"dataset\" describing which dataset each row comes from. We will do the following **feature engineering** and **Train-Validation-Test** split on this large table."
   ]
  },
  {
   "cell_type": "code",
   "execution_count": 25,
   "metadata": {
    "colab": {
     "base_uri": "https://localhost:8080/",
     "height": 111
    },
    "colab_type": "code",
    "id": "1PGUg4hDd1_x",
    "outputId": "821ccb66-eda9-4450-aca6-440420e54f4f"
   },
   "outputs": [
    {
     "data": {
      "text/html": [
       "<div>\n",
       "<style scoped>\n",
       "    .dataframe tbody tr th:only-of-type {\n",
       "        vertical-align: middle;\n",
       "    }\n",
       "\n",
       "    .dataframe tbody tr th {\n",
       "        vertical-align: top;\n",
       "    }\n",
       "\n",
       "    .dataframe thead th {\n",
       "        text-align: right;\n",
       "    }\n",
       "</style>\n",
       "<table border=\"1\" class=\"dataframe\">\n",
       "  <thead>\n",
       "    <tr style=\"text-align: right;\">\n",
       "      <th></th>\n",
       "      <th>PassengerId</th>\n",
       "      <th>Survived</th>\n",
       "      <th>Pclass</th>\n",
       "      <th>Name</th>\n",
       "      <th>Sex</th>\n",
       "      <th>Age</th>\n",
       "      <th>SibSp</th>\n",
       "      <th>Parch</th>\n",
       "      <th>Ticket</th>\n",
       "      <th>Fare</th>\n",
       "      <th>Cabin</th>\n",
       "      <th>Embarked</th>\n",
       "      <th>dataset</th>\n",
       "    </tr>\n",
       "  </thead>\n",
       "  <tbody>\n",
       "    <tr>\n",
       "      <th>0</th>\n",
       "      <td>1</td>\n",
       "      <td>0.0</td>\n",
       "      <td>3</td>\n",
       "      <td>Braund, Mr. Owen Harris</td>\n",
       "      <td>male</td>\n",
       "      <td>22.0</td>\n",
       "      <td>1</td>\n",
       "      <td>0</td>\n",
       "      <td>A/5 21171</td>\n",
       "      <td>7.2500</td>\n",
       "      <td>NaN</td>\n",
       "      <td>S</td>\n",
       "      <td>Train</td>\n",
       "    </tr>\n",
       "    <tr>\n",
       "      <th>1</th>\n",
       "      <td>2</td>\n",
       "      <td>1.0</td>\n",
       "      <td>1</td>\n",
       "      <td>Cumings, Mrs. John Bradley (Florence Briggs Th...</td>\n",
       "      <td>female</td>\n",
       "      <td>38.0</td>\n",
       "      <td>1</td>\n",
       "      <td>0</td>\n",
       "      <td>PC 17599</td>\n",
       "      <td>71.2833</td>\n",
       "      <td>C85</td>\n",
       "      <td>C</td>\n",
       "      <td>Train</td>\n",
       "    </tr>\n",
       "  </tbody>\n",
       "</table>\n",
       "</div>"
      ],
      "text/plain": [
       "   PassengerId  Survived  Pclass  \\\n",
       "0            1       0.0       3   \n",
       "1            2       1.0       1   \n",
       "\n",
       "                                                Name     Sex   Age  SibSp  \\\n",
       "0                            Braund, Mr. Owen Harris    male  22.0      1   \n",
       "1  Cumings, Mrs. John Bradley (Florence Briggs Th...  female  38.0      1   \n",
       "\n",
       "   Parch     Ticket     Fare Cabin Embarked dataset  \n",
       "0      0  A/5 21171   7.2500   NaN        S   Train  \n",
       "1      0   PC 17599  71.2833   C85        C   Train  "
      ]
     },
     "execution_count": 25,
     "metadata": {},
     "output_type": "execute_result"
    }
   ],
   "source": [
    "train = pd.read_csv('data/train.csv')\n",
    "test = pd.read_csv('data/test.csv')\n",
    "\n",
    "train['dataset'] = 'Train'\n",
    "test['dataset'] = 'Test'\n",
    "\n",
    "data = pd.concat([train, test]).reset_index(drop = True)\n",
    "data.head(2)"
   ]
  },
  {
   "cell_type": "markdown",
   "metadata": {
    "colab_type": "text",
    "id": "wfABcIv6Mblw"
   },
   "source": [
    "## 2.1 Feature Understanding\n",
    "- In this section, we will first examinate the **correlation** between features and the the **instrinsic characteristics** of each features - this will give us ideas about which features to use in the prediction model.\n",
    "- **Note:** there is nothing to do in this section, all you need to do is get familiar with **the use of heatmap function** and **understand what it means**. \n"
   ]
  },
  {
   "cell_type": "code",
   "execution_count": 26,
   "metadata": {
    "colab": {},
    "colab_type": "code",
    "id": "RepuN6KqNB8k"
   },
   "outputs": [],
   "source": [
    "import matplotlib.pyplot as plt\n",
    "import seaborn as sns\n",
    "plt.style.use('fivethirtyeight')\n",
    "%matplotlib inline"
   ]
  },
  {
   "cell_type": "code",
   "execution_count": 27,
   "metadata": {
    "colab": {
     "base_uri": "https://localhost:8080/",
     "height": 534
    },
    "colab_type": "code",
    "id": "MsoGFEv9MqDk",
    "outputId": "193666cc-4d73-408c-a342-427c6404891a"
   },
   "outputs": [
    {
     "data": {
      "image/png": "[encoded data removed]",
      "text/plain": [
       "<Figure size 720x576 with 2 Axes>"
      ]
     },
     "metadata": {
      "needs_background": "light"
     },
     "output_type": "display_data"
    }
   ],
   "source": [
    "sns.heatmap(data.corr(), annot = True, cmap = 'RdYlGn' , linewidths = 0.2) # data.corr() --> correlation matrix\n",
    "fig = plt.gcf()\n",
    "fig.set_size_inches(10, 8)\n",
    "plt.show()"
   ]
  },
  {
   "cell_type": "markdown",
   "metadata": {
    "colab_type": "text",
    "id": "Lx93PRnzMB9K"
   },
   "source": [
    "## 2.2. Feature Engineering & Pre-processing\n",
    "- In this section, we will look at the second step in Machine Learning: Feature Engineering. That is to say, we would decide which feature could be useful for the model to make the decision. Essentially, we could select features either followed by some heuristics from observation/EDA, or by some algorithm/statistics. Moreover, we could also manually create some feature by taking the combination/permutation of two or more features.\n",
    "- From the *personal perspective*, this is really the most **crutial** part of machine learning: unlike the deep learning model (CNN, RNN, etc.), which automatically looks for features themselves, feature engineering makes machine just to focus on optimization and fitting problems. **This is what makes us human: summarizing from our knowledge and help the machine to learn a lot.**\n",
    "- From the *practical perspective*, feature engineering is also important: for the machine, it's hard to understand some of the easy features to human (e.g. string). Instead, machines are good at understanding a number, a vector and a matrix. **Therefore, another key aspect of feature engineering is to convert our data into a format that's easily understood by machine.**\n",
    "\n",
    "\n",
    "- **In this section, we will look at the following feature engineering techniques that's commonly used.** However, since Titanic dataset is somewhat simple, I would suggest the following [artical](https://towardsdatascience.com/feature-engineering-for-machine-learning-3a5e293a5114) where feature engineering is better summarized. \n",
    "    - **Imputation**: handle missing values by filling them up with appropriate alternatives\n",
    "    - **Binning**: grouping some continues values into several bins\n",
    "    - **Feature Split / Combination**: Split / Combining features\n",
    "    - **One-Hot Encoding**: encode catogerical data\n",
    "    - **Pipeline**: handle various encoding"
   ]
  },
  {
   "cell_type": "code",
   "execution_count": null,
   "metadata": {
    "colab": {},
    "colab_type": "code",
    "id": "2dikQaps-S5K"
   },
   "outputs": [],
   "source": []
  },
  {
   "cell_type": "markdown",
   "metadata": {
    "colab_type": "text",
    "id": "F1K3xhFy-S5L"
   },
   "source": [
    "### 2.2.1 Initials / Ages (Imputation)\n",
    "- The first thing we'd like to investigate is whether age could decide one's survival\n",
    "- If you remember, there are lots of `nan` in the `Age` column, in order to fill those blanks with appropriate age, what we will do is to find the initial of every person and find the average age for each initial.\n",
    "- Then we will fill those `nan` in `Age` column with average age of that initial. (**Think about this, does this make sense?**)"
   ]
  },
  {
   "cell_type": "code",
   "execution_count": 28,
   "metadata": {
    "colab": {},
    "colab_type": "code",
    "id": "fciSuNwb-S5L",
    "outputId": "4c597a07-1b1c-4f3d-c625-70b8ecbda67e"
   },
   "outputs": [
    {
     "data": {
      "text/html": [
       "<div>\n",
       "<style scoped>\n",
       "    .dataframe tbody tr th:only-of-type {\n",
       "        vertical-align: middle;\n",
       "    }\n",
       "\n",
       "    .dataframe tbody tr th {\n",
       "        vertical-align: top;\n",
       "    }\n",
       "\n",
       "    .dataframe thead th {\n",
       "        text-align: right;\n",
       "    }\n",
       "</style>\n",
       "<table border=\"1\" class=\"dataframe\">\n",
       "  <thead>\n",
       "    <tr style=\"text-align: right;\">\n",
       "      <th></th>\n",
       "      <th>Name</th>\n",
       "      <th>initial</th>\n",
       "    </tr>\n",
       "  </thead>\n",
       "  <tbody>\n",
       "    <tr>\n",
       "      <th>0</th>\n",
       "      <td>Braund, Mr. Owen Harris</td>\n",
       "      <td>Mr</td>\n",
       "    </tr>\n",
       "    <tr>\n",
       "      <th>1</th>\n",
       "      <td>Cumings, Mrs. John Bradley (Florence Briggs Th...</td>\n",
       "      <td>Mrs</td>\n",
       "    </tr>\n",
       "    <tr>\n",
       "      <th>2</th>\n",
       "      <td>Heikkinen, Miss. Laina</td>\n",
       "      <td>Miss</td>\n",
       "    </tr>\n",
       "    <tr>\n",
       "      <th>3</th>\n",
       "      <td>Futrelle, Mrs. Jacques Heath (Lily May Peel)</td>\n",
       "      <td>Mrs</td>\n",
       "    </tr>\n",
       "    <tr>\n",
       "      <th>4</th>\n",
       "      <td>Allen, Mr. William Henry</td>\n",
       "      <td>Mr</td>\n",
       "    </tr>\n",
       "  </tbody>\n",
       "</table>\n",
       "</div>"
      ],
      "text/plain": [
       "                                                Name initial\n",
       "0                            Braund, Mr. Owen Harris      Mr\n",
       "1  Cumings, Mrs. John Bradley (Florence Briggs Th...     Mrs\n",
       "2                             Heikkinen, Miss. Laina    Miss\n",
       "3       Futrelle, Mrs. Jacques Heath (Lily May Peel)     Mrs\n",
       "4                           Allen, Mr. William Henry      Mr"
      ]
     },
     "execution_count": 28,
     "metadata": {},
     "output_type": "execute_result"
    }
   ],
   "source": [
    "import re # Use regular expression（正则表达式）\n",
    "\n",
    "# Do Not modify this cell, just run it.\n",
    "data['initial'] = data.Name.apply(lambda s: re.findall(r'([A-Za-z]+)\\.', s)[0]) \n",
    "data[['Name', 'initial']].head()"
   ]
  },
  {
   "cell_type": "markdown",
   "metadata": {
    "colab_type": "text",
    "id": "49XESnXm-S5M"
   },
   "source": [
    "- For more information about the use of regular expression, here is a useful link: [Python regular expression](https://www.tutorialspoint.com/python/python_reg_expressions.htm)\n",
    "- **It is not required for you to know regular expression for this project, but it's encouraged to learn it on your own (it takes a while to understand it!).**\n",
    "\n",
    "- Now, take a look at our results of initials:"
   ]
  },
  {
   "cell_type": "code",
   "execution_count": 29,
   "metadata": {
    "colab": {},
    "colab_type": "code",
    "id": "ziFHoWGw-S5M",
    "outputId": "2f94c6b7-3868-4c4e-cad0-2a95775152a8"
   },
   "outputs": [
    {
     "data": {
      "text/plain": [
       "array(['Mr', 'Mrs', 'Miss', 'Master', 'Don', 'Rev', 'Dr', 'Mme', 'Ms',\n",
       "       'Major', 'Lady', 'Sir', 'Mlle', 'Col', 'Capt', 'Countess',\n",
       "       'Jonkheer', 'Dona'], dtype=object)"
      ]
     },
     "execution_count": 29,
     "metadata": {},
     "output_type": "execute_result"
    }
   ],
   "source": [
    "# As you can see here, there is too many unique initials, \n",
    "# while some of them could be manually classified into the same one \n",
    "data.initial.unique() "
   ]
  },
  {
   "cell_type": "code",
   "execution_count": 30,
   "metadata": {
    "colab": {},
    "colab_type": "code",
    "id": "TkbX4nUI-S5N"
   },
   "outputs": [],
   "source": [
    "# DO NOT modify this cell, just run it (try to understand the use of pd.replace() function!)\n",
    "data.initial = data.initial.replace(\n",
    "    ['Mlle','Mme','Ms','Dr','Major','Lady','Countess','Jonkheer','Col','Rev','Capt','Sir','Don', 'Dona'],\n",
    "    ['Miss','Miss','Miss','Mr','Mr','Mrs','Mrs','Other','Other','Other','Mr','Mr','Mr', 'Miss']\n",
    ")"
   ]
  },
  {
   "cell_type": "code",
   "execution_count": 31,
   "metadata": {
    "colab": {},
    "colab_type": "code",
    "id": "vo4T6-uc-S5O",
    "outputId": "265074ea-d37e-4edb-ed2f-7ce44eb92097"
   },
   "outputs": [
    {
     "data": {
      "text/plain": [
       "array(['Mr', 'Mrs', 'Miss', 'Master', 'Other'], dtype=object)"
      ]
     },
     "execution_count": 31,
     "metadata": {},
     "output_type": "execute_result"
    }
   ],
   "source": [
    "data.initial.unique() # Looks good now!"
   ]
  },
  {
   "cell_type": "markdown",
   "metadata": {
    "colab_type": "text",
    "id": "DqiKyR1o-S5P"
   },
   "source": [
    "**Problem 2.1:** Calculate the **average age** for each initial groups; then, fill up the `nan` values in the `Age` column.\n",
    "- Hint: make use of `pd.groupby()` function, [link to doc](https://pandas.pydata.org/pandas-docs/stable/reference/api/pandas.DataFrame.groupby.html)\n",
    "- Hint: make use of `pd.fillna()` function, [link to doc](https://pandas.pydata.org/pandas-docs/stable/reference/api/pandas.DataFrame.fillna.html)"
   ]
  },
  {
   "cell_type": "code",
   "execution_count": 33,
   "metadata": {
    "colab": {},
    "colab_type": "code",
    "id": "ia9WWgOo-S5Q"
   },
   "outputs": [
    {
     "data": {
      "text/plain": [
       "263"
      ]
     },
     "execution_count": 33,
     "metadata": {},
     "output_type": "execute_result"
    }
   ],
   "source": [
    "# Your Code Starts Here\n",
    "data.Age.isnull().sum()"
   ]
  },
  {
   "cell_type": "code",
   "execution_count": 14,
   "metadata": {
    "colab": {},
    "colab_type": "code",
    "id": "73EL2iW6-S5R"
   },
   "outputs": [],
   "source": [
    "# Your Code Starts Here\n",
    "data.loc[(data.Age.isnull()) & (data.initial == 'Mr'), 'Age'] = 33\n",
    "data.loc[(data.Age.isnull()) & (data.initial == 'Mrs'), 'Age'] = ...\n",
    "data.loc[(data.Age.isnull()) & (data.initial == 'Master'), 'Age'] = ...\n",
    "data.loc[(data.Age.isnull()) & (data.initial == 'Miss'), 'Age'] = ...\n",
    "data.loc[(data.Age.isnull()) & (data.initial == 'Other'), 'Age'] = ..."
   ]
  },
  {
   "cell_type": "markdown",
   "metadata": {
    "colab_type": "text",
    "id": "Gvx39HTiQjfS"
   },
   "source": [
    "### 2.2.2 Age band (Binning)\n",
    "- In this section, we will do binning in the age column, where we assign a group number to each bin\n",
    "\n",
    "**Problem 2.2:** Implement the function `handle_age_band` and apply it to the train dataframe. \n",
    "- Hint: use `pd.apply()` function"
   ]
  },
  {
   "cell_type": "code",
   "execution_count": null,
   "metadata": {
    "colab": {},
    "colab_type": "code",
    "id": "-tGexSSWyFZT"
   },
   "outputs": [],
   "source": [
    "# Function to handle age band implementation\n",
    "# [0-16]: 0\n",
    "# [17-32]: 1\n",
    "# [33-48]: 2\n",
    "# [49-64]: 3\n",
    "# [>64]: 4\n",
    "def handle_age_band(age):\n",
    "    if age <= 16:\n",
    "        return 0\n",
    "    # Your Code Starts Here  \n",
    "    return -1 # Modify here\n",
    "    # Your Code Ends Here\n",
    "\n",
    "\n",
    "# Your Code Starts Here\n",
    "data['age_band'] = ...\n",
    "# Your Code Ends Here\n",
    "data.head(2)"
   ]
  },
  {
   "cell_type": "markdown",
   "metadata": {
    "colab_type": "text",
    "id": "_Ps1nXFuRDKV"
   },
   "source": [
    "### 2.2.3 Family Size (Feature Combination)\n",
    "- we would also like to investigate whether family size have an impact on passenger's survival\n",
    "\n",
    "- **Problem 2.3:** Here we create a new feature called `family_size` which is the sum of `Parch` and `SibSp` columns for each row; also, create another column called `alone` where 1 means traveling without families and 0 otherwise."
   ]
  },
  {
   "cell_type": "code",
   "execution_count": null,
   "metadata": {
    "colab": {},
    "colab_type": "code",
    "id": "qJtzTjRNyFcc"
   },
   "outputs": [],
   "source": [
    "# Your Code Starts Here\n",
    "data['family_size'] = ...\n",
    "data['alone'] = ... # hint: make use of pd.apply() function on family_size column\n",
    "# Your Code Ends Here"
   ]
  },
  {
   "cell_type": "code",
   "execution_count": null,
   "metadata": {
    "colab": {},
    "colab_type": "code",
    "id": "70q_hAXgi47y"
   },
   "outputs": [],
   "source": []
  },
  {
   "cell_type": "markdown",
   "metadata": {
    "colab_type": "text",
    "id": "kvJM1Rb6j45C"
   },
   "source": [
    "### 2.2.4 Checking null values again"
   ]
  },
  {
   "cell_type": "code",
   "execution_count": null,
   "metadata": {
    "colab": {
     "base_uri": "https://localhost:8080/",
     "height": 323
    },
    "colab_type": "code",
    "id": "ZH_uhJFJj5ND",
    "outputId": "28c36621-2007-460d-b7fc-9f679e1e7408",
    "scrolled": false
   },
   "outputs": [
    {
     "data": {
      "text/plain": [
       "Survived       418\n",
       "Pclass           0\n",
       "Sex              0\n",
       "SibSp            0\n",
       "Parch            0\n",
       "Fare             0\n",
       "Embarked         0\n",
       "dataset          0\n",
       "initial          0\n",
       "age_band         0\n",
       "family_size      0\n",
       "alone            0\n",
       "dtype: int64"
      ]
     },
     "execution_count": 52,
     "metadata": {
      "tags": []
     },
     "output_type": "execute_result"
    }
   ],
   "source": [
    "data.isna().sum()"
   ]
  },
  {
   "cell_type": "markdown",
   "metadata": {
    "colab_type": "text",
    "id": "s1BCVVdVnHHr"
   },
   "source": [
    "**Problem 2.4:** Fill up the remaining null values in the dataframe\n",
    "- Hint: make use of `pd.fillna()` function, [link to doc](https://pandas.pydata.org/pandas-docs/stable/reference/api/pandas.DataFrame.fillna.html)"
   ]
  },
  {
   "cell_type": "code",
   "execution_count": null,
   "metadata": {
    "colab": {},
    "colab_type": "code",
    "id": "JJSoRvovj524"
   },
   "outputs": [],
   "source": [
    "# # Examples\n",
    "# data.Embarked = data.Embarked.fillna('S') # Because 'S' is the most common embark (登船) location.\n",
    "\n",
    "# # TODO: handle other null values, if there is any; if not, just ignore it\n",
    "# # Note: if there is null in the 'Survived' column, it's fine.\n",
    "\n",
    "# # Your Code Starts Here\n",
    "# data.Fare = ... # Fill the nan values in fare columns with median value of passenger fare.\n",
    "# # Your Code Ends Here"
   ]
  },
  {
   "cell_type": "code",
   "execution_count": null,
   "metadata": {
    "colab": {},
    "colab_type": "code",
    "id": "iaOE5axKj5yG"
   },
   "outputs": [],
   "source": [
    "# Drop un-needed features\n",
    "data = data.drop(columns = ['Name', 'Ticket', 'PassengerId', 'Cabin', 'Age'])"
   ]
  },
  {
   "cell_type": "markdown",
   "metadata": {
    "colab_type": "text",
    "id": "vXU4Otd8-S5d"
   },
   "source": [
    "### 2.2.5 One-hot Encoding\n",
    "- In this section, we will look at another important feature engineering process, specially designed for categorical data: **One-hot Encoding**.\n",
    "- The idea behind one-hot encoding is simple: instead of using categorical labels, we use several seperate columns for each label (see example below).\n",
    "- Through one-hot encoding, we could tramsfrom data from some format that the model couldn't take as an input(text, image, etc) into vectors that the model could calculate."
   ]
  },
  {
   "cell_type": "code",
   "execution_count": null,
   "metadata": {
    "colab": {},
    "colab_type": "code",
    "id": "6Wzxk-2G-S5d",
    "outputId": "f61859cf-049d-4381-e49c-d90a427fe22d"
   },
   "outputs": [
    {
     "data": {
      "text/html": [
       "<div>\n",
       "<style scoped>\n",
       "    .dataframe tbody tr th:only-of-type {\n",
       "        vertical-align: middle;\n",
       "    }\n",
       "\n",
       "    .dataframe tbody tr th {\n",
       "        vertical-align: top;\n",
       "    }\n",
       "\n",
       "    .dataframe thead th {\n",
       "        text-align: right;\n",
       "    }\n",
       "</style>\n",
       "<table border=\"1\" class=\"dataframe\">\n",
       "  <thead>\n",
       "    <tr style=\"text-align: right;\">\n",
       "      <th></th>\n",
       "      <th>name</th>\n",
       "      <th>Major</th>\n",
       "    </tr>\n",
       "  </thead>\n",
       "  <tbody>\n",
       "    <tr>\n",
       "      <th>0</th>\n",
       "      <td>Joey</td>\n",
       "      <td>DataSci</td>\n",
       "    </tr>\n",
       "    <tr>\n",
       "      <th>1</th>\n",
       "      <td>Scott</td>\n",
       "      <td>DataSci</td>\n",
       "    </tr>\n",
       "    <tr>\n",
       "      <th>2</th>\n",
       "      <td>Jasmine</td>\n",
       "      <td>CogsSci</td>\n",
       "    </tr>\n",
       "    <tr>\n",
       "      <th>3</th>\n",
       "      <td>Alan</td>\n",
       "      <td>DataSci</td>\n",
       "    </tr>\n",
       "    <tr>\n",
       "      <th>4</th>\n",
       "      <td>Mao</td>\n",
       "      <td>CompSci</td>\n",
       "    </tr>\n",
       "  </tbody>\n",
       "</table>\n",
       "</div>"
      ],
      "text/plain": [
       "      name    Major\n",
       "0     Joey  DataSci\n",
       "1    Scott  DataSci\n",
       "2  Jasmine  CogsSci\n",
       "3     Alan  DataSci\n",
       "4      Mao  CompSci"
      ]
     },
     "metadata": {
      "tags": []
     },
     "output_type": "display_data"
    },
    {
     "data": {
      "text/html": [
       "<div>\n",
       "<style scoped>\n",
       "    .dataframe tbody tr th:only-of-type {\n",
       "        vertical-align: middle;\n",
       "    }\n",
       "\n",
       "    .dataframe tbody tr th {\n",
       "        vertical-align: top;\n",
       "    }\n",
       "\n",
       "    .dataframe thead th {\n",
       "        text-align: right;\n",
       "    }\n",
       "</style>\n",
       "<table border=\"1\" class=\"dataframe\">\n",
       "  <thead>\n",
       "    <tr style=\"text-align: right;\">\n",
       "      <th></th>\n",
       "      <th>name</th>\n",
       "      <th>DataSci</th>\n",
       "      <th>CogsSci</th>\n",
       "      <th>CompSci</th>\n",
       "    </tr>\n",
       "  </thead>\n",
       "  <tbody>\n",
       "    <tr>\n",
       "      <th>0</th>\n",
       "      <td>Joey</td>\n",
       "      <td>1</td>\n",
       "      <td>0</td>\n",
       "      <td>0</td>\n",
       "    </tr>\n",
       "    <tr>\n",
       "      <th>1</th>\n",
       "      <td>Scott</td>\n",
       "      <td>1</td>\n",
       "      <td>0</td>\n",
       "      <td>0</td>\n",
       "    </tr>\n",
       "    <tr>\n",
       "      <th>2</th>\n",
       "      <td>Jasmine</td>\n",
       "      <td>0</td>\n",
       "      <td>1</td>\n",
       "      <td>0</td>\n",
       "    </tr>\n",
       "    <tr>\n",
       "      <th>3</th>\n",
       "      <td>Alan</td>\n",
       "      <td>1</td>\n",
       "      <td>0</td>\n",
       "      <td>0</td>\n",
       "    </tr>\n",
       "    <tr>\n",
       "      <th>4</th>\n",
       "      <td>Mao</td>\n",
       "      <td>0</td>\n",
       "      <td>0</td>\n",
       "      <td>1</td>\n",
       "    </tr>\n",
       "  </tbody>\n",
       "</table>\n",
       "</div>"
      ],
      "text/plain": [
       "      name  DataSci  CogsSci  CompSci\n",
       "0     Joey        1        0        0\n",
       "1    Scott        1        0        0\n",
       "2  Jasmine        0        1        0\n",
       "3     Alan        1        0        0\n",
       "4      Mao        0        0        1"
      ]
     },
     "metadata": {
      "tags": []
     },
     "output_type": "display_data"
    }
   ],
   "source": [
    "# Original data\n",
    "original = pd.DataFrame({\n",
    "    'name': ['Joey', 'Scott', 'Jasmine', 'Alan', 'Mao'],\n",
    "    'Major': ['DataSci', 'DataSci', 'CogsSci', 'DataSci', 'CompSci']\n",
    "})\n",
    "onehot = pd.DataFrame({\n",
    "    'name': ['Joey', 'Scott', 'Jasmine', 'Alan', 'Mao'],\n",
    "    'DataSci': [1, 1, 0, 1, 0],\n",
    "    'CogsSci': [0, 0, 1, 0, 0],\n",
    "    'CompSci': [0, 0, 0, 0, 1]\n",
    "})\n",
    "\n",
    "display(original, onehot)"
   ]
  },
  {
   "cell_type": "markdown",
   "metadata": {
    "colab_type": "text",
    "id": "JhCG7Lws-S5e"
   },
   "source": [
    "- The way to achieve these encoded features is simple: Sci-kit Learn already has package for this:\n",
    "    - [One-hot Encoder from Scikit](https://scikit-learn.org/stable/modules/generated/sklearn.preprocessing.OneHotEncoder.html)\n",
    "    - **Note**: the output for this transformer is a matrix, which is kind of hard to debug."
   ]
  },
  {
   "cell_type": "code",
   "execution_count": null,
   "metadata": {
    "colab": {},
    "colab_type": "code",
    "id": "rgFNJO4U-S5e"
   },
   "outputs": [],
   "source": [
    "# This is a quick way of \"query\" into the dataframe, like a SQL query. \n",
    "train = data.query('dataset == \"Train\"').drop(columns = ['dataset'])\n",
    "\n",
    "# We don't need survived column for test set.\n",
    "test = data.query('dataset == \"Test\"').drop(columns = ['Survived', 'dataset']) "
   ]
  },
  {
   "cell_type": "code",
   "execution_count": null,
   "metadata": {
    "colab": {},
    "colab_type": "code",
    "id": "f79bNMrW-S5h"
   },
   "outputs": [],
   "source": [
    "train, y_train = train.drop(columns = ['Survived']), train.Survived.values"
   ]
  },
  {
   "cell_type": "code",
   "execution_count": null,
   "metadata": {
    "colab": {},
    "colab_type": "code",
    "id": "m8Vv9QdK-S5i"
   },
   "outputs": [],
   "source": []
  },
  {
   "cell_type": "code",
   "execution_count": null,
   "metadata": {
    "colab": {},
    "colab_type": "code",
    "id": "CD_ZdGPi-S5j"
   },
   "outputs": [],
   "source": [
    "from sklearn.preprocessing import OneHotEncoder\n",
    "enc = ... # remember to set 'handle_unknown' to 'ignore'!\n",
    "enc.fit(...)"
   ]
  },
  {
   "cell_type": "code",
   "execution_count": null,
   "metadata": {
    "colab": {},
    "colab_type": "code",
    "id": "XOEk9q9Y-S5l",
    "outputId": "3d4939ef-6c7d-4a95-c33c-414bd75fa4c8"
   },
   "outputs": [
    {
     "data": {
      "text/plain": [
       "[array(['Master', 'Miss', 'Mr', 'Mrs', 'Other'], dtype=object)]"
      ]
     },
     "execution_count": 174,
     "metadata": {
      "tags": []
     },
     "output_type": "execute_result"
    }
   ],
   "source": [
    "enc.categories_"
   ]
  },
  {
   "cell_type": "code",
   "execution_count": null,
   "metadata": {
    "colab": {},
    "colab_type": "code",
    "id": "8O0xnTUV-S5m",
    "outputId": "c5765108-b8f0-42b0-a38a-57dddf4e142e"
   },
   "outputs": [
    {
     "data": {
      "text/plain": [
       "<891x5 sparse matrix of type '<class 'numpy.float64'>'\n",
       "\twith 891 stored elements in Compressed Sparse Row format>"
      ]
     },
     "execution_count": 175,
     "metadata": {
      "tags": []
     },
     "output_type": "execute_result"
    }
   ],
   "source": [
    "enc.transform(X_train[['initial']]) # As you can see, the result is a sparse matrix"
   ]
  },
  {
   "cell_type": "code",
   "execution_count": null,
   "metadata": {
    "colab": {},
    "colab_type": "code",
    "id": "GppvZHNy-S5o",
    "outputId": "8f8daa97-9b18-4652-9294-b4056567971e"
   },
   "outputs": [
    {
     "name": "stdout",
     "output_type": "stream",
     "text": [
      "Shape of encoded: (891, 5)\n"
     ]
    },
    {
     "data": {
      "text/plain": [
       "matrix([[0., 0., 1., 0., 0.],\n",
       "        [0., 0., 0., 1., 0.],\n",
       "        [0., 1., 0., 0., 0.],\n",
       "        ...,\n",
       "        [0., 1., 0., 0., 0.],\n",
       "        [0., 0., 1., 0., 0.],\n",
       "        [0., 0., 1., 0., 0.]])"
      ]
     },
     "execution_count": 176,
     "metadata": {
      "tags": []
     },
     "output_type": "execute_result"
    }
   ],
   "source": [
    "print('Shape of encoded:', enc.transform(X_train[['initial']]).todense().shape)\n",
    "enc.transform(X_train[['initial']]).todense() # take a look a it, it's a matrix"
   ]
  },
  {
   "cell_type": "markdown",
   "metadata": {
    "colab_type": "text",
    "id": "0GzPqWqJ-S5p"
   },
   "source": [
    "### 2.2.6 Pipeline\n",
    "- Now, we will integrate **one-hot encoding** with **other features** we created!"
   ]
  },
  {
   "cell_type": "code",
   "execution_count": null,
   "metadata": {
    "colab": {},
    "colab_type": "code",
    "id": "nvzhLtUA-S5p",
    "outputId": "8705b401-b9b5-46e3-b736-2ebfe6b129ca",
    "scrolled": true
   },
   "outputs": [
    {
     "data": {
      "text/html": [
       "<div>\n",
       "<style scoped>\n",
       "    .dataframe tbody tr th:only-of-type {\n",
       "        vertical-align: middle;\n",
       "    }\n",
       "\n",
       "    .dataframe tbody tr th {\n",
       "        vertical-align: top;\n",
       "    }\n",
       "\n",
       "    .dataframe thead th {\n",
       "        text-align: right;\n",
       "    }\n",
       "</style>\n",
       "<table border=\"1\" class=\"dataframe\">\n",
       "  <thead>\n",
       "    <tr style=\"text-align: right;\">\n",
       "      <th></th>\n",
       "      <th>Pclass</th>\n",
       "      <th>Sex</th>\n",
       "      <th>SibSp</th>\n",
       "      <th>Parch</th>\n",
       "      <th>Fare</th>\n",
       "      <th>Embarked</th>\n",
       "      <th>initial</th>\n",
       "      <th>age_band</th>\n",
       "      <th>family_size</th>\n",
       "      <th>alone</th>\n",
       "    </tr>\n",
       "  </thead>\n",
       "  <tbody>\n",
       "    <tr>\n",
       "      <th>0</th>\n",
       "      <td>3</td>\n",
       "      <td>male</td>\n",
       "      <td>1</td>\n",
       "      <td>0</td>\n",
       "      <td>7.2500</td>\n",
       "      <td>S</td>\n",
       "      <td>Mr</td>\n",
       "      <td>1</td>\n",
       "      <td>1</td>\n",
       "      <td>0</td>\n",
       "    </tr>\n",
       "    <tr>\n",
       "      <th>1</th>\n",
       "      <td>1</td>\n",
       "      <td>female</td>\n",
       "      <td>1</td>\n",
       "      <td>0</td>\n",
       "      <td>71.2833</td>\n",
       "      <td>C</td>\n",
       "      <td>Mrs</td>\n",
       "      <td>2</td>\n",
       "      <td>1</td>\n",
       "      <td>0</td>\n",
       "    </tr>\n",
       "  </tbody>\n",
       "</table>\n",
       "</div>"
      ],
      "text/plain": [
       "   Pclass     Sex  SibSp  Parch     Fare Embarked initial  age_band  \\\n",
       "0       3    male      1      0   7.2500        S      Mr         1   \n",
       "1       1  female      1      0  71.2833        C     Mrs         2   \n",
       "\n",
       "   family_size  alone  \n",
       "0            1      0  \n",
       "1            1      0  "
      ]
     },
     "execution_count": 45,
     "metadata": {
      "tags": []
     },
     "output_type": "execute_result"
    }
   ],
   "source": [
    "train.head(2)"
   ]
  },
  {
   "cell_type": "code",
   "execution_count": null,
   "metadata": {
    "colab": {},
    "colab_type": "code",
    "id": "5X1AOj7V-S5p"
   },
   "outputs": [],
   "source": [
    "# handle application features\n",
    "from sklearn.pipeline import Pipeline\n",
    "from sklearn.preprocessing import StandardScaler\n",
    "from sklearn.compose import ColumnTransformer\n",
    "from sklearn.preprocessing import FunctionTransformer\n",
    "\n",
    "identical_transformer = FunctionTransformer(lambda x: x)\n",
    "num_feat = ['Fare']\n",
    "num_trans = Pipeline(\n",
    "    steps = [\n",
    "        ('scalar', StandardScaler())\n",
    "    ])\n",
    "\n",
    "one_hot = OneHotEncoder(handle_unknown = 'ignore')\n",
    "cat_feat = ['Pclass', 'Sex', 'SibSp', 'Parch', 'Embarked', 'initial', 'age_band', 'family_size', 'alone']\n",
    "cat_trans = Pipeline(\n",
    "    steps = [\n",
    "        ('onehot', one_hot)\n",
    "    ])\n",
    "\n",
    "ct = ColumnTransformer(\n",
    "    transformers = [\n",
    "        ('num', num_trans, num_feat),\n",
    "        ('cat', cat_trans, cat_feat)\n",
    "    ])\n",
    "ct = ct.fit(train)"
   ]
  },
  {
   "cell_type": "code",
   "execution_count": null,
   "metadata": {
    "colab": {},
    "colab_type": "code",
    "id": "P0kMKUDn-S5s"
   },
   "outputs": [],
   "source": [
    "X_train = ct.transform(train)\n",
    "X_test = ct.fit_transform(test)"
   ]
  },
  {
   "cell_type": "code",
   "execution_count": null,
   "metadata": {
    "colab": {},
    "colab_type": "code",
    "id": "vAcHmg63-S51",
    "outputId": "064d2d73-0ee1-4051-baf0-6f63c34414d9"
   },
   "outputs": [
    {
     "name": "stdout",
     "output_type": "stream",
     "text": [
      "(891, 44) (891,) (418, 45)\n"
     ]
    }
   ],
   "source": [
    "print(X_train.shape, y_train.shape, X_test.shape)"
   ]
  },
  {
   "cell_type": "code",
   "execution_count": null,
   "metadata": {
    "colab": {},
    "colab_type": "code",
    "id": "RMYTWepp-S52"
   },
   "outputs": [],
   "source": []
  },
  {
   "cell_type": "markdown",
   "metadata": {
    "colab_type": "text",
    "id": "P_T-pZmvoyMe"
   },
   "source": [
    "**Problem 2.5:** Make another heatmap similar to the one in section 3.1."
   ]
  },
  {
   "cell_type": "code",
   "execution_count": null,
   "metadata": {
    "colab": {},
    "colab_type": "code",
    "id": "efozS4ilo7zy"
   },
   "outputs": [],
   "source": [
    "# Your Code Starts Here\n",
    "\n",
    "\n",
    "# Your Code Ends Here"
   ]
  },
  {
   "cell_type": "code",
   "execution_count": null,
   "metadata": {
    "colab": {},
    "colab_type": "code",
    "id": "efCY-hCpU46x"
   },
   "outputs": [],
   "source": []
  },
  {
   "cell_type": "markdown",
   "metadata": {
    "colab_type": "text",
    "id": "lL2IVhvbMFWT"
   },
   "source": [
    "## 2.3. Model Selection\n",
    "- In this section, we will look at the procedure of making a model selection. In particular, we will look at two ways of find the best model: **manual search** and **k-fold cross validation**"
   ]
  },
  {
   "cell_type": "code",
   "execution_count": null,
   "metadata": {
    "colab": {},
    "colab_type": "code",
    "id": "7yMQUAgcWxfF"
   },
   "outputs": [],
   "source": [
    "#importing all the required ML packages\n",
    "from sklearn.linear_model import LogisticRegression #logistic regression\n",
    "from sklearn import svm #support vector Machine\n",
    "from sklearn.ensemble import RandomForestClassifier #Random Forest\n",
    "from sklearn.neighbors import KNeighborsClassifier #KNN\n",
    "from sklearn.tree import DecisionTreeClassifier #Decision Tree\n",
    "from sklearn.naive_bayes import GaussianNB #Naive bayes\n",
    "\n",
    "from sklearn.model_selection import train_test_split #training and testing data split\n",
    "from sklearn import metrics #accuracy measure\n",
    "from sklearn.metrics import confusion_matrix #for confusion matrix"
   ]
  },
  {
   "cell_type": "markdown",
   "metadata": {
    "colab_type": "text",
    "id": "Xh6L1593kp0T"
   },
   "source": [
    "### 2.3.1 Manual Trying\n",
    "- In this section, we wil manually try various model with various parameters. \n",
    "- Before using models, we will further split our training set into two parts: `train` and `validation`. The reason behind this is that: we what to make sure the model we used on the testing set is the best model we can get, therefore, we need an objective measurement of \"goodness\" of model, which should be on a set of data that the model has not seen before -> validation set."
   ]
  },
  {
   "cell_type": "code",
   "execution_count": null,
   "metadata": {
    "colab": {},
    "colab_type": "code",
    "id": "TkY_51ofMI0G"
   },
   "outputs": [],
   "source": [
    "X, y = X_train.copy(), y_train.copy() # Save the training set for future use\n",
    "X_train, X_val, y_train, y_val = train_test_split(X_train, y_train, test_size = 0.33, random_state = 42)"
   ]
  },
  {
   "cell_type": "markdown",
   "metadata": {
    "colab_type": "text",
    "id": "z6dWEa-g-S56"
   },
   "source": [
    "- After creating validation set, we started to try some Sci-kit models for machine learning:\n",
    "    - `SVC ` (Support Vector Classification)\n",
    "    - `Logistic Regression`\n",
    "- For both of them, we will try various model parameters in order to find out the best model"
   ]
  },
  {
   "cell_type": "code",
   "execution_count": null,
   "metadata": {
    "colab": {},
    "colab_type": "code",
    "id": "dHgVO4rY-S56",
    "outputId": "4da0bde2-dc7e-4395-c031-21a0bec4b9e2"
   },
   "outputs": [
    {
     "name": "stdout",
     "output_type": "stream",
     "text": [
      "Val acc for rbf SVM is  0.8440677966101695\n"
     ]
    }
   ],
   "source": [
    "# SVC model\n",
    "model = svm.SVC(kernel = 'rbf', C = 1, gamma = 0.1)\n",
    "model.fit(X_train, y_train)\n",
    "prediction1 = model.predict(X_val)\n",
    "print('Val acc for rbf SVM is ', metrics.accuracy_score(prediction1, y_val))"
   ]
  },
  {
   "cell_type": "markdown",
   "metadata": {
    "colab_type": "text",
    "id": "gzTFr0O0-S57"
   },
   "source": [
    "- **Problem 2.6**: \n",
    "    - First, read the following two page for the documentation of [SVC](https://scikit-learn.org/stable/modules/generated/sklearn.svm.SVC.html) and [Logistic Regression](https://scikit-learn.org/stable/modules/generated/sklearn.linear_model.LogisticRegression.html). Pay additional attention to the parameter `C` and `gamma`\n",
    "    - Second, copy the code from above and try various `C` and `gamma` values\n",
    "    - Then, Try to use `Logistic Regression` on the same data (try `C` = 0.1, 1, 10 and keep the one w/ best acc)"
   ]
  },
  {
   "cell_type": "code",
   "execution_count": null,
   "metadata": {
    "colab": {},
    "colab_type": "code",
    "id": "i3_Wnfvm-S57"
   },
   "outputs": [],
   "source": [
    "# Your Code Starts Here - SVC\n",
    "\n",
    "\n",
    "# Your Code Ends Here"
   ]
  },
  {
   "cell_type": "code",
   "execution_count": null,
   "metadata": {
    "colab": {},
    "colab_type": "code",
    "id": "bFBPUPva-S58"
   },
   "outputs": [],
   "source": [
    "# Your Code Starts Here - Logistic Regression\n",
    "\n",
    "\n",
    "# Your Code Ends Here"
   ]
  },
  {
   "cell_type": "code",
   "execution_count": null,
   "metadata": {
    "colab": {},
    "colab_type": "code",
    "id": "KwaZSGiq-S58"
   },
   "outputs": [],
   "source": []
  },
  {
   "cell_type": "markdown",
   "metadata": {
    "colab_type": "text",
    "id": "wSby4TWW-S59"
   },
   "source": [
    "### 2.3.2 Cross-validation\n",
    "- Another common way of validation is to use k-fold cross-validation. The idea behind this is to use the entire training set instead of using a hold-out validation set like we did previously. The way to achieve validation is by doing the following:\n",
    "    - Break the training set into k folds / groups\n",
    "    - Each iteration, fit a model with k-1 folds and calculate its performance on the last fold. \n",
    "    - Change the valitation 'fold' for each time\n",
    "- In this section, you will fill in some blanks in order to complete the training.\n",
    "- Hint: [Doc for KFold](https://scikit-learn.org/stable/modules/generated/sklearn.model_selection.KFold.html) and [Doc for cross_val_score](https://scikit-learn.org/stable/modules/generated/sklearn.model_selection.cross_val_score.html)\n",
    "\n",
    "\n",
    "-----\n",
    "- **Problem 2.7:** Finish the Cross-Validation process below"
   ]
  },
  {
   "cell_type": "code",
   "execution_count": null,
   "metadata": {
    "colab": {},
    "colab_type": "code",
    "id": "mTFca879-S59",
    "scrolled": false
   },
   "outputs": [],
   "source": [
    "from sklearn.model_selection import KFold #for K-fold cross validation\n",
    "from sklearn.model_selection import cross_val_score #score evaluation\n",
    "from sklearn.model_selection import cross_val_predict #prediction\n",
    "kfold = KFold(n_splits = 10, random_state = 24) # k = 10, split the data into 10 equal parts\n",
    "cv_mean = []\n",
    "accuracy = []\n",
    "std = []\n",
    "classifiers = ['Linear Svm', 'Radial Svm', 'Logistic Regression', 'KNN', 'Decision Tree',\\\n",
    "               'Random Forest']\n",
    "\n",
    "# Your Code Starts Here\n",
    "# TODO: fill in additional models\n",
    "# Some suggestions: LogisticRegression, KNeighborsClassifier, DecisionTreeClassifier, RandomForestClassifier\n",
    "models = [svm.SVC(kernel = 'linear'), ...]  \n",
    "# Your Code Ends Here\n",
    "\n",
    "for model in models:\n",
    "    # TODO: fill in needed arguments, remeber to fill in 'scoring' and 'cv' \n",
    "    cv_result = cross_val_score(...) \n",
    "    # Your Code Ends Here\n",
    "    \n",
    "    cv_mean.append(cv_result.mean())\n",
    "    std.append(cv_result.std())\n",
    "    accuracy.append(cv_result)\n",
    "\n",
    "new_models_dataframe = pd.DataFrame({'CV Mean': cv_mean, 'Std': std}, index = classifiers)       \n",
    "new_models_dataframe"
   ]
  },
  {
   "cell_type": "code",
   "execution_count": null,
   "metadata": {
    "colab": {},
    "colab_type": "code",
    "id": "Q_-2QMNW-S5-"
   },
   "outputs": [],
   "source": []
  },
  {
   "cell_type": "markdown",
   "metadata": {
    "colab_type": "text",
    "id": "HSLvuQVeMJmx"
   },
   "source": [
    "## 3.4. Model Testing\n",
    "- From the dataframe above, we can see the model with best accuracy and most stable (lower std)\n",
    "- Now, pick the best model\n",
    "- **Problem 2.8:** Pick the best model and finish the test prediction"
   ]
  },
  {
   "cell_type": "code",
   "execution_count": null,
   "metadata": {
    "colab": {},
    "colab_type": "code",
    "id": "UCYrLg7iMIpC",
    "outputId": "59dfe73d-0897-4757-84f8-6e827716c2b8"
   },
   "outputs": [
    {
     "data": {
      "text/html": [
       "<div>\n",
       "<style scoped>\n",
       "    .dataframe tbody tr th:only-of-type {\n",
       "        vertical-align: middle;\n",
       "    }\n",
       "\n",
       "    .dataframe tbody tr th {\n",
       "        vertical-align: top;\n",
       "    }\n",
       "\n",
       "    .dataframe thead th {\n",
       "        text-align: right;\n",
       "    }\n",
       "</style>\n",
       "<table border=\"1\" class=\"dataframe\">\n",
       "  <thead>\n",
       "    <tr style=\"text-align: right;\">\n",
       "      <th></th>\n",
       "      <th>Pclass</th>\n",
       "      <th>Sex</th>\n",
       "      <th>SibSp</th>\n",
       "      <th>Parch</th>\n",
       "      <th>Fare</th>\n",
       "      <th>Embarked</th>\n",
       "      <th>initial</th>\n",
       "      <th>age_band</th>\n",
       "      <th>family_size</th>\n",
       "      <th>alone</th>\n",
       "    </tr>\n",
       "  </thead>\n",
       "  <tbody>\n",
       "    <tr>\n",
       "      <th>891</th>\n",
       "      <td>3</td>\n",
       "      <td>male</td>\n",
       "      <td>0</td>\n",
       "      <td>0</td>\n",
       "      <td>7.8292</td>\n",
       "      <td>Q</td>\n",
       "      <td>Mr</td>\n",
       "      <td>2</td>\n",
       "      <td>0</td>\n",
       "      <td>1</td>\n",
       "    </tr>\n",
       "    <tr>\n",
       "      <th>892</th>\n",
       "      <td>3</td>\n",
       "      <td>female</td>\n",
       "      <td>1</td>\n",
       "      <td>0</td>\n",
       "      <td>7.0000</td>\n",
       "      <td>S</td>\n",
       "      <td>Mrs</td>\n",
       "      <td>2</td>\n",
       "      <td>1</td>\n",
       "      <td>0</td>\n",
       "    </tr>\n",
       "    <tr>\n",
       "      <th>893</th>\n",
       "      <td>2</td>\n",
       "      <td>male</td>\n",
       "      <td>0</td>\n",
       "      <td>0</td>\n",
       "      <td>9.6875</td>\n",
       "      <td>Q</td>\n",
       "      <td>Mr</td>\n",
       "      <td>3</td>\n",
       "      <td>0</td>\n",
       "      <td>1</td>\n",
       "    </tr>\n",
       "    <tr>\n",
       "      <th>894</th>\n",
       "      <td>3</td>\n",
       "      <td>male</td>\n",
       "      <td>0</td>\n",
       "      <td>0</td>\n",
       "      <td>8.6625</td>\n",
       "      <td>S</td>\n",
       "      <td>Mr</td>\n",
       "      <td>1</td>\n",
       "      <td>0</td>\n",
       "      <td>1</td>\n",
       "    </tr>\n",
       "    <tr>\n",
       "      <th>895</th>\n",
       "      <td>3</td>\n",
       "      <td>female</td>\n",
       "      <td>1</td>\n",
       "      <td>1</td>\n",
       "      <td>12.2875</td>\n",
       "      <td>S</td>\n",
       "      <td>Mrs</td>\n",
       "      <td>1</td>\n",
       "      <td>2</td>\n",
       "      <td>0</td>\n",
       "    </tr>\n",
       "    <tr>\n",
       "      <th>...</th>\n",
       "      <td>...</td>\n",
       "      <td>...</td>\n",
       "      <td>...</td>\n",
       "      <td>...</td>\n",
       "      <td>...</td>\n",
       "      <td>...</td>\n",
       "      <td>...</td>\n",
       "      <td>...</td>\n",
       "      <td>...</td>\n",
       "      <td>...</td>\n",
       "    </tr>\n",
       "    <tr>\n",
       "      <th>1304</th>\n",
       "      <td>3</td>\n",
       "      <td>male</td>\n",
       "      <td>0</td>\n",
       "      <td>0</td>\n",
       "      <td>8.0500</td>\n",
       "      <td>S</td>\n",
       "      <td>Mr</td>\n",
       "      <td>2</td>\n",
       "      <td>0</td>\n",
       "      <td>1</td>\n",
       "    </tr>\n",
       "    <tr>\n",
       "      <th>1305</th>\n",
       "      <td>1</td>\n",
       "      <td>female</td>\n",
       "      <td>0</td>\n",
       "      <td>0</td>\n",
       "      <td>108.9000</td>\n",
       "      <td>C</td>\n",
       "      <td>Miss</td>\n",
       "      <td>2</td>\n",
       "      <td>0</td>\n",
       "      <td>1</td>\n",
       "    </tr>\n",
       "    <tr>\n",
       "      <th>1306</th>\n",
       "      <td>3</td>\n",
       "      <td>male</td>\n",
       "      <td>0</td>\n",
       "      <td>0</td>\n",
       "      <td>7.2500</td>\n",
       "      <td>S</td>\n",
       "      <td>Mr</td>\n",
       "      <td>2</td>\n",
       "      <td>0</td>\n",
       "      <td>1</td>\n",
       "    </tr>\n",
       "    <tr>\n",
       "      <th>1307</th>\n",
       "      <td>3</td>\n",
       "      <td>male</td>\n",
       "      <td>0</td>\n",
       "      <td>0</td>\n",
       "      <td>8.0500</td>\n",
       "      <td>S</td>\n",
       "      <td>Mr</td>\n",
       "      <td>2</td>\n",
       "      <td>0</td>\n",
       "      <td>1</td>\n",
       "    </tr>\n",
       "    <tr>\n",
       "      <th>1308</th>\n",
       "      <td>3</td>\n",
       "      <td>male</td>\n",
       "      <td>1</td>\n",
       "      <td>1</td>\n",
       "      <td>22.3583</td>\n",
       "      <td>C</td>\n",
       "      <td>Master</td>\n",
       "      <td>0</td>\n",
       "      <td>2</td>\n",
       "      <td>0</td>\n",
       "    </tr>\n",
       "  </tbody>\n",
       "</table>\n",
       "<p>418 rows × 10 columns</p>\n",
       "</div>"
      ],
      "text/plain": [
       "      Pclass     Sex  SibSp  Parch      Fare Embarked initial  age_band  \\\n",
       "891        3    male      0      0    7.8292        Q      Mr         2   \n",
       "892        3  female      1      0    7.0000        S     Mrs         2   \n",
       "893        2    male      0      0    9.6875        Q      Mr         3   \n",
       "894        3    male      0      0    8.6625        S      Mr         1   \n",
       "895        3  female      1      1   12.2875        S     Mrs         1   \n",
       "...      ...     ...    ...    ...       ...      ...     ...       ...   \n",
       "1304       3    male      0      0    8.0500        S      Mr         2   \n",
       "1305       1  female      0      0  108.9000        C    Miss         2   \n",
       "1306       3    male      0      0    7.2500        S      Mr         2   \n",
       "1307       3    male      0      0    8.0500        S      Mr         2   \n",
       "1308       3    male      1      1   22.3583        C  Master         0   \n",
       "\n",
       "      family_size  alone  \n",
       "891             0      1  \n",
       "892             1      0  \n",
       "893             0      1  \n",
       "894             0      1  \n",
       "895             2      0  \n",
       "...           ...    ...  \n",
       "1304            0      1  \n",
       "1305            0      1  \n",
       "1306            0      1  \n",
       "1307            0      1  \n",
       "1308            2      0  \n",
       "\n",
       "[418 rows x 10 columns]"
      ]
     },
     "execution_count": 67,
     "metadata": {
      "tags": []
     },
     "output_type": "execute_result"
    }
   ],
   "source": [
    "# Your Code Starts Here\n",
    "model = ... # Pick the best model\n",
    "# Your Code Ends Here\n",
    "\n",
    "model.fit(X, y)\n",
    "prediction = model.predict(X_test)\n",
    "\n",
    "test['PassengerId'] = test.index\n",
    "test['Survived'] = prediction1\n",
    "test.head()"
   ]
  },
  {
   "cell_type": "markdown",
   "metadata": {
    "colab_type": "text",
    "id": "jVVD-zQjMMDX"
   },
   "source": [
    "## 3.5. Export Prediction & Submission\n",
    "- Submit to this website: https://www.kaggle.com/c/titanic/submit"
   ]
  },
  {
   "cell_type": "code",
   "execution_count": null,
   "metadata": {
    "colab": {},
    "colab_type": "code",
    "id": "dyBWZkO7Mk8N",
    "outputId": "f4a481b7-c92b-4f02-b583-01ad44682b69"
   },
   "outputs": [
    {
     "data": {
      "text/html": [
       "<div>\n",
       "<style scoped>\n",
       "    .dataframe tbody tr th:only-of-type {\n",
       "        vertical-align: middle;\n",
       "    }\n",
       "\n",
       "    .dataframe tbody tr th {\n",
       "        vertical-align: top;\n",
       "    }\n",
       "\n",
       "    .dataframe thead th {\n",
       "        text-align: right;\n",
       "    }\n",
       "</style>\n",
       "<table border=\"1\" class=\"dataframe\">\n",
       "  <thead>\n",
       "    <tr style=\"text-align: right;\">\n",
       "      <th></th>\n",
       "      <th>PassengerId</th>\n",
       "      <th>Survived</th>\n",
       "    </tr>\n",
       "  </thead>\n",
       "  <tbody>\n",
       "    <tr>\n",
       "      <th>0</th>\n",
       "      <td>892</td>\n",
       "      <td>0</td>\n",
       "    </tr>\n",
       "    <tr>\n",
       "      <th>1</th>\n",
       "      <td>893</td>\n",
       "      <td>1</td>\n",
       "    </tr>\n",
       "    <tr>\n",
       "      <th>2</th>\n",
       "      <td>894</td>\n",
       "      <td>0</td>\n",
       "    </tr>\n",
       "    <tr>\n",
       "      <th>3</th>\n",
       "      <td>895</td>\n",
       "      <td>0</td>\n",
       "    </tr>\n",
       "    <tr>\n",
       "      <th>4</th>\n",
       "      <td>896</td>\n",
       "      <td>1</td>\n",
       "    </tr>\n",
       "  </tbody>\n",
       "</table>\n",
       "</div>"
      ],
      "text/plain": [
       "   PassengerId  Survived\n",
       "0          892         0\n",
       "1          893         1\n",
       "2          894         0\n",
       "3          895         0\n",
       "4          896         1"
      ]
     },
     "execution_count": 68,
     "metadata": {
      "tags": []
     },
     "output_type": "execute_result"
    }
   ],
   "source": [
    "# Make sure your submission looks like this\n",
    "pd.read_csv('data/gender_submission.csv').head()"
   ]
  },
  {
   "cell_type": "code",
   "execution_count": null,
   "metadata": {
    "colab": {},
    "colab_type": "code",
    "id": "TRHSd0lcMk0g"
   },
   "outputs": [],
   "source": [
    "test[['PassengerId', 'Survived']].to_csv('submission.csv', index = False)"
   ]
  },
  {
   "cell_type": "markdown",
   "metadata": {
    "colab_type": "text",
    "id": "bJhELOZBMQwz"
   },
   "source": [
    "# The End."
   ]
  },
  {
   "cell_type": "code",
   "execution_count": null,
   "metadata": {
    "colab": {},
    "colab_type": "code",
    "id": "MT24Us-WMogq"
   },
   "outputs": [],
   "source": []
  }
 ],
 "metadata": {
  "colab": {
   "collapsed_sections": [],
   "name": "2_Intro_to_ML.ipynb",
   "provenance": [],
   "toc_visible": true
  },
  "kernelspec": {
   "display_name": "Python 3",
   "language": "python",
   "name": "python3"
  },
  "language_info": {
   "codemirror_mode": {
    "name": "ipython",
    "version": 3
   },
   "file_extension": ".py",
   "mimetype": "text/x-python",
   "name": "python",
   "nbconvert_exporter": "python",
   "pygments_lexer": "ipython3",
   "version": "3.8.3"
  },
  "toc": {
   "base_numbering": 1,
   "nav_menu": {},
   "number_sections": false,
   "sideBar": true,
   "skip_h1_title": false,
   "title_cell": "Table of Contents",
   "title_sidebar": "Contents",
   "toc_cell": false,
   "toc_position": {},
   "toc_section_display": true,
   "toc_window_display": false
  }
 },
 "nbformat": 4,
 "nbformat_minor": 1
}
